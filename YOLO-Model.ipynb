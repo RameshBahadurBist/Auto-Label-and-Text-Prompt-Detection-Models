{
 "cells": [
  {
   "cell_type": "code",
   "execution_count": null,
   "id": "25cddf23",
   "metadata": {},
   "outputs": [],
   "source": [
    "pip install ultralytics  #Required for running YOLO Models"
   ]
  },
  {
   "cell_type": "code",
   "execution_count": null,
   "id": "2de5d184",
   "metadata": {},
   "outputs": [],
   "source": [
    "!nvidia-smi"
   ]
  },
  {
   "cell_type": "code",
   "execution_count": null,
   "id": "61186379",
   "metadata": {},
   "outputs": [],
   "source": [
    "!yolo settings datasets_dir=/home/datasets   #path to your data"
   ]
  },
  {
   "cell_type": "code",
   "execution_count": null,
   "id": "285cc891",
   "metadata": {},
   "outputs": [],
   "source": [
    "!unzip /home/datasets/new.zip -d /home/datasets/new/   #Unzip folder if zipped"
   ]
  },
  {
   "cell_type": "code",
   "execution_count": null,
   "id": "f972b682",
   "metadata": {},
   "outputs": [],
   "source": [
    "#Training and Validation\n",
    "from ultralytics import RTDETR\n",
    "model = RTDETR('rtdetr-l.pt')   #Can choose any one one of model\n",
    "model = YOLO('yolov9s.pt')\n",
    "model.train(data='/home/datasets/data.yaml', epochs=200, patience=200, batch=16, imgsz=640, name='RTDETR', project='new')"
   ]
  },
  {
   "cell_type": "code",
   "execution_count": null,
   "id": "1f4e61ff",
   "metadata": {},
   "outputs": [],
   "source": [
    "from ultralytics import YOLO\n",
    "\n",
    "# Load a model for validation\n",
    "model = YOLO(\"/home/best.pt\")\n",
    "\n",
    "# Customize validation settings\n",
    "validation_results = model.val(data=\"/home/datasets/data.yaml\", imgsz=640, batch=16, conf=0.50, iou=0.6, device=\"0\")"
   ]
  },
  {
   "cell_type": "code",
   "execution_count": null,
   "id": "eb367e35",
   "metadata": {},
   "outputs": [],
   "source": [
    "#Prediction\n",
    "from ultralytics import YOLO\n",
    "model= YOLO(\"/home/weights/best.pt\")\n",
    "model.predict(\"/home/images/test/\", save=True, conf=0.25)"
   ]
  },
  {
   "cell_type": "code",
   "execution_count": null,
   "id": "91bdf829",
   "metadata": {},
   "outputs": [],
   "source": [
    "# Install necessary libraries\n",
    "!pip install ultralytics  # For YOLOv8; or use yolov5 repository if using YOLOv5\n",
    "\n",
    "# Import required modules\n",
    "from ultralytics import YOLO\n",
    "import os\n",
    "import cv2\n",
    "from pathlib import Path\n",
    "\n",
    "# Set paths\n",
    "images_folder = '/home/rbist/datasets/AutoLabel/Behavior690/Behaviorautolabels/images/test/'  # Folder containing images\n",
    "output_labels_folder = '/home/rbist/Behavior2500Pseudo/Behavior2500at0.502/weights/predicted/'  # Folder to save YOLO format labels\n",
    "model_path = '/home/rbist/Behavior2500Pseudo/Behavior2500at0.502/weights/best.pt'  # YOLO model path\n",
    "\n",
    "# Create labels folder if it doesn't exist\n",
    "os.makedirs(output_labels_folder, exist_ok=True)\n",
    "\n",
    "# Load the YOLO model\n",
    "model = YOLO(model_path)\n",
    "\n",
    "# Iterate through images and run inference\n",
    "for image_path in Path(images_folder).glob('*.jpg'):  # Adjust extension if needed\n",
    "    # Load image\n",
    "    img = cv2.imread(str(image_path))\n",
    "    \n",
    "    # Run inference\n",
    "    results = model.predict(source=img, conf=0.25, save=True)\n",
    "    \n",
    "    # Process predictions\n",
    "    label_file_path = output_labels_folder + '/' + image_path.stem + '.txt'\n",
    "    with open(label_file_path, 'w') as f:\n",
    "        for box in results[0].boxes.data.tolist():\n",
    "            # YOLO format: class x_center y_center width height\n",
    "            x1, y1, x2, y2, conf, cls = box\n",
    "            x_center = (x1 + x2) / 2 / img.shape[1]\n",
    "            y_center = (y1 + y2) / 2 / img.shape[0]\n",
    "            width = (x2 - x1) / img.shape[1]\n",
    "            height = (y2 - y1) / img.shape[0]\n",
    "            f.write(f\"{int(cls)} {x_center} {y_center} {width} {height}\\n\")\n",
    "\n",
    "print(f\"Labels saved to {output_labels_folder}\")"
   ]
  }
 ],
 "metadata": {
  "kernelspec": {
   "display_name": "Python 3 (ipykernel)",
   "language": "python",
   "name": "python3"
  },
  "language_info": {
   "codemirror_mode": {
    "name": "ipython",
    "version": 3
   },
   "file_extension": ".py",
   "mimetype": "text/x-python",
   "name": "python",
   "nbconvert_exporter": "python",
   "pygments_lexer": "ipython3",
   "version": "3.11.5"
  }
 },
 "nbformat": 4,
 "nbformat_minor": 5
}
